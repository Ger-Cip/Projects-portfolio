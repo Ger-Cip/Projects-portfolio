{
  "nbformat": 4,
  "nbformat_minor": 0,
  "metadata": {
    "colab": {
      "provenance": []
    },
    "kernelspec": {
      "name": "python3",
      "display_name": "Python 3"
    },
    "language_info": {
      "name": "python"
    }
  },
  "cells": [
    {
      "cell_type": "markdown",
      "source": [
        "# **Models of stock return**\n"
      ],
      "metadata": {
        "id": "6AHs8ioB7qm2"
      }
    },
    {
      "cell_type": "markdown",
      "source": [
        "**01. Set-up the environment**"
      ],
      "metadata": {
        "id": "GBHkGIja79N5"
      }
    },
    {
      "cell_type": "code",
      "source": [
        "import pandas as pd\n",
        "import numpy as np\n",
        "import matplotlib.pyplot as plt\n",
        "%matplotlib inline\n",
        "\n",
        "#Import Tesla historical stock data\n",
        "\n",
        "tsla = pd.read_csv('/content/drive/MyDrive/TSLA.csv', index_col='Date')\n",
        "tsla.head()\n"
      ],
      "metadata": {
        "colab": {
          "base_uri": "https://localhost:8080/",
          "height": 238
        },
        "id": "7ZRLjClqln36",
        "outputId": "3b98bfda-dc95-45d5-da8a-98d44923d574"
      },
      "execution_count": 13,
      "outputs": [
        {
          "output_type": "execute_result",
          "data": {
            "text/plain": [
              "                 Open       High        Low      Close  Adj Close     Volume\n",
              "Date                                                                        \n",
              "2019-08-21  14.800667  14.881333  14.506667  14.722000  14.722000  116914500\n",
              "2019-08-22  14.853333  15.026667  14.548000  14.810000  14.810000   98385000\n",
              "2019-08-23  14.664667  14.744667  14.066667  14.093333  14.093333  128079000\n",
              "2019-08-26  14.240000  14.334667  14.102667  14.333333  14.333333   75778500\n",
              "2019-08-27  14.382667  14.586667  14.135333  14.272000  14.272000   81243000"
            ],
            "text/html": [
              "\n",
              "  <div id=\"df-7f6cefe3-14cf-46fe-bad3-9675f5057be2\" class=\"colab-df-container\">\n",
              "    <div>\n",
              "<style scoped>\n",
              "    .dataframe tbody tr th:only-of-type {\n",
              "        vertical-align: middle;\n",
              "    }\n",
              "\n",
              "    .dataframe tbody tr th {\n",
              "        vertical-align: top;\n",
              "    }\n",
              "\n",
              "    .dataframe thead th {\n",
              "        text-align: right;\n",
              "    }\n",
              "</style>\n",
              "<table border=\"1\" class=\"dataframe\">\n",
              "  <thead>\n",
              "    <tr style=\"text-align: right;\">\n",
              "      <th></th>\n",
              "      <th>Open</th>\n",
              "      <th>High</th>\n",
              "      <th>Low</th>\n",
              "      <th>Close</th>\n",
              "      <th>Adj Close</th>\n",
              "      <th>Volume</th>\n",
              "    </tr>\n",
              "    <tr>\n",
              "      <th>Date</th>\n",
              "      <th></th>\n",
              "      <th></th>\n",
              "      <th></th>\n",
              "      <th></th>\n",
              "      <th></th>\n",
              "      <th></th>\n",
              "    </tr>\n",
              "  </thead>\n",
              "  <tbody>\n",
              "    <tr>\n",
              "      <th>2019-08-21</th>\n",
              "      <td>14.800667</td>\n",
              "      <td>14.881333</td>\n",
              "      <td>14.506667</td>\n",
              "      <td>14.722000</td>\n",
              "      <td>14.722000</td>\n",
              "      <td>116914500</td>\n",
              "    </tr>\n",
              "    <tr>\n",
              "      <th>2019-08-22</th>\n",
              "      <td>14.853333</td>\n",
              "      <td>15.026667</td>\n",
              "      <td>14.548000</td>\n",
              "      <td>14.810000</td>\n",
              "      <td>14.810000</td>\n",
              "      <td>98385000</td>\n",
              "    </tr>\n",
              "    <tr>\n",
              "      <th>2019-08-23</th>\n",
              "      <td>14.664667</td>\n",
              "      <td>14.744667</td>\n",
              "      <td>14.066667</td>\n",
              "      <td>14.093333</td>\n",
              "      <td>14.093333</td>\n",
              "      <td>128079000</td>\n",
              "    </tr>\n",
              "    <tr>\n",
              "      <th>2019-08-26</th>\n",
              "      <td>14.240000</td>\n",
              "      <td>14.334667</td>\n",
              "      <td>14.102667</td>\n",
              "      <td>14.333333</td>\n",
              "      <td>14.333333</td>\n",
              "      <td>75778500</td>\n",
              "    </tr>\n",
              "    <tr>\n",
              "      <th>2019-08-27</th>\n",
              "      <td>14.382667</td>\n",
              "      <td>14.586667</td>\n",
              "      <td>14.135333</td>\n",
              "      <td>14.272000</td>\n",
              "      <td>14.272000</td>\n",
              "      <td>81243000</td>\n",
              "    </tr>\n",
              "  </tbody>\n",
              "</table>\n",
              "</div>\n",
              "    <div class=\"colab-df-buttons\">\n",
              "\n",
              "  <div class=\"colab-df-container\">\n",
              "    <button class=\"colab-df-convert\" onclick=\"convertToInteractive('df-7f6cefe3-14cf-46fe-bad3-9675f5057be2')\"\n",
              "            title=\"Convert this dataframe to an interactive table.\"\n",
              "            style=\"display:none;\">\n",
              "\n",
              "  <svg xmlns=\"http://www.w3.org/2000/svg\" height=\"24px\" viewBox=\"0 -960 960 960\">\n",
              "    <path d=\"M120-120v-720h720v720H120Zm60-500h600v-160H180v160Zm220 220h160v-160H400v160Zm0 220h160v-160H400v160ZM180-400h160v-160H180v160Zm440 0h160v-160H620v160ZM180-180h160v-160H180v160Zm440 0h160v-160H620v160Z\"/>\n",
              "  </svg>\n",
              "    </button>\n",
              "\n",
              "  <style>\n",
              "    .colab-df-container {\n",
              "      display:flex;\n",
              "      gap: 12px;\n",
              "    }\n",
              "\n",
              "    .colab-df-convert {\n",
              "      background-color: #E8F0FE;\n",
              "      border: none;\n",
              "      border-radius: 50%;\n",
              "      cursor: pointer;\n",
              "      display: none;\n",
              "      fill: #1967D2;\n",
              "      height: 32px;\n",
              "      padding: 0 0 0 0;\n",
              "      width: 32px;\n",
              "    }\n",
              "\n",
              "    .colab-df-convert:hover {\n",
              "      background-color: #E2EBFA;\n",
              "      box-shadow: 0px 1px 2px rgba(60, 64, 67, 0.3), 0px 1px 3px 1px rgba(60, 64, 67, 0.15);\n",
              "      fill: #174EA6;\n",
              "    }\n",
              "\n",
              "    .colab-df-buttons div {\n",
              "      margin-bottom: 4px;\n",
              "    }\n",
              "\n",
              "    [theme=dark] .colab-df-convert {\n",
              "      background-color: #3B4455;\n",
              "      fill: #D2E3FC;\n",
              "    }\n",
              "\n",
              "    [theme=dark] .colab-df-convert:hover {\n",
              "      background-color: #434B5C;\n",
              "      box-shadow: 0px 1px 3px 1px rgba(0, 0, 0, 0.15);\n",
              "      filter: drop-shadow(0px 1px 2px rgba(0, 0, 0, 0.3));\n",
              "      fill: #FFFFFF;\n",
              "    }\n",
              "  </style>\n",
              "\n",
              "    <script>\n",
              "      const buttonEl =\n",
              "        document.querySelector('#df-7f6cefe3-14cf-46fe-bad3-9675f5057be2 button.colab-df-convert');\n",
              "      buttonEl.style.display =\n",
              "        google.colab.kernel.accessAllowed ? 'block' : 'none';\n",
              "\n",
              "      async function convertToInteractive(key) {\n",
              "        const element = document.querySelector('#df-7f6cefe3-14cf-46fe-bad3-9675f5057be2');\n",
              "        const dataTable =\n",
              "          await google.colab.kernel.invokeFunction('convertToInteractive',\n",
              "                                                    [key], {});\n",
              "        if (!dataTable) return;\n",
              "\n",
              "        const docLinkHtml = 'Like what you see? Visit the ' +\n",
              "          '<a target=\"_blank\" href=https://colab.research.google.com/notebooks/data_table.ipynb>data table notebook</a>'\n",
              "          + ' to learn more about interactive tables.';\n",
              "        element.innerHTML = '';\n",
              "        dataTable['output_type'] = 'display_data';\n",
              "        await google.colab.output.renderOutput(dataTable, element);\n",
              "        const docLink = document.createElement('div');\n",
              "        docLink.innerHTML = docLinkHtml;\n",
              "        element.appendChild(docLink);\n",
              "      }\n",
              "    </script>\n",
              "  </div>\n",
              "\n",
              "\n",
              "<div id=\"df-0fe1d3e8-752b-4d1e-8e11-c8b4b5bc2f30\">\n",
              "  <button class=\"colab-df-quickchart\" onclick=\"quickchart('df-0fe1d3e8-752b-4d1e-8e11-c8b4b5bc2f30')\"\n",
              "            title=\"Suggest charts\"\n",
              "            style=\"display:none;\">\n",
              "\n",
              "<svg xmlns=\"http://www.w3.org/2000/svg\" height=\"24px\"viewBox=\"0 0 24 24\"\n",
              "     width=\"24px\">\n",
              "    <g>\n",
              "        <path d=\"M19 3H5c-1.1 0-2 .9-2 2v14c0 1.1.9 2 2 2h14c1.1 0 2-.9 2-2V5c0-1.1-.9-2-2-2zM9 17H7v-7h2v7zm4 0h-2V7h2v10zm4 0h-2v-4h2v4z\"/>\n",
              "    </g>\n",
              "</svg>\n",
              "  </button>\n",
              "\n",
              "<style>\n",
              "  .colab-df-quickchart {\n",
              "      --bg-color: #E8F0FE;\n",
              "      --fill-color: #1967D2;\n",
              "      --hover-bg-color: #E2EBFA;\n",
              "      --hover-fill-color: #174EA6;\n",
              "      --disabled-fill-color: #AAA;\n",
              "      --disabled-bg-color: #DDD;\n",
              "  }\n",
              "\n",
              "  [theme=dark] .colab-df-quickchart {\n",
              "      --bg-color: #3B4455;\n",
              "      --fill-color: #D2E3FC;\n",
              "      --hover-bg-color: #434B5C;\n",
              "      --hover-fill-color: #FFFFFF;\n",
              "      --disabled-bg-color: #3B4455;\n",
              "      --disabled-fill-color: #666;\n",
              "  }\n",
              "\n",
              "  .colab-df-quickchart {\n",
              "    background-color: var(--bg-color);\n",
              "    border: none;\n",
              "    border-radius: 50%;\n",
              "    cursor: pointer;\n",
              "    display: none;\n",
              "    fill: var(--fill-color);\n",
              "    height: 32px;\n",
              "    padding: 0;\n",
              "    width: 32px;\n",
              "  }\n",
              "\n",
              "  .colab-df-quickchart:hover {\n",
              "    background-color: var(--hover-bg-color);\n",
              "    box-shadow: 0 1px 2px rgba(60, 64, 67, 0.3), 0 1px 3px 1px rgba(60, 64, 67, 0.15);\n",
              "    fill: var(--button-hover-fill-color);\n",
              "  }\n",
              "\n",
              "  .colab-df-quickchart-complete:disabled,\n",
              "  .colab-df-quickchart-complete:disabled:hover {\n",
              "    background-color: var(--disabled-bg-color);\n",
              "    fill: var(--disabled-fill-color);\n",
              "    box-shadow: none;\n",
              "  }\n",
              "\n",
              "  .colab-df-spinner {\n",
              "    border: 2px solid var(--fill-color);\n",
              "    border-color: transparent;\n",
              "    border-bottom-color: var(--fill-color);\n",
              "    animation:\n",
              "      spin 1s steps(1) infinite;\n",
              "  }\n",
              "\n",
              "  @keyframes spin {\n",
              "    0% {\n",
              "      border-color: transparent;\n",
              "      border-bottom-color: var(--fill-color);\n",
              "      border-left-color: var(--fill-color);\n",
              "    }\n",
              "    20% {\n",
              "      border-color: transparent;\n",
              "      border-left-color: var(--fill-color);\n",
              "      border-top-color: var(--fill-color);\n",
              "    }\n",
              "    30% {\n",
              "      border-color: transparent;\n",
              "      border-left-color: var(--fill-color);\n",
              "      border-top-color: var(--fill-color);\n",
              "      border-right-color: var(--fill-color);\n",
              "    }\n",
              "    40% {\n",
              "      border-color: transparent;\n",
              "      border-right-color: var(--fill-color);\n",
              "      border-top-color: var(--fill-color);\n",
              "    }\n",
              "    60% {\n",
              "      border-color: transparent;\n",
              "      border-right-color: var(--fill-color);\n",
              "    }\n",
              "    80% {\n",
              "      border-color: transparent;\n",
              "      border-right-color: var(--fill-color);\n",
              "      border-bottom-color: var(--fill-color);\n",
              "    }\n",
              "    90% {\n",
              "      border-color: transparent;\n",
              "      border-bottom-color: var(--fill-color);\n",
              "    }\n",
              "  }\n",
              "</style>\n",
              "\n",
              "  <script>\n",
              "    async function quickchart(key) {\n",
              "      const quickchartButtonEl =\n",
              "        document.querySelector('#' + key + ' button');\n",
              "      quickchartButtonEl.disabled = true;  // To prevent multiple clicks.\n",
              "      quickchartButtonEl.classList.add('colab-df-spinner');\n",
              "      try {\n",
              "        const charts = await google.colab.kernel.invokeFunction(\n",
              "            'suggestCharts', [key], {});\n",
              "      } catch (error) {\n",
              "        console.error('Error during call to suggestCharts:', error);\n",
              "      }\n",
              "      quickchartButtonEl.classList.remove('colab-df-spinner');\n",
              "      quickchartButtonEl.classList.add('colab-df-quickchart-complete');\n",
              "    }\n",
              "    (() => {\n",
              "      let quickchartButtonEl =\n",
              "        document.querySelector('#df-0fe1d3e8-752b-4d1e-8e11-c8b4b5bc2f30 button');\n",
              "      quickchartButtonEl.style.display =\n",
              "        google.colab.kernel.accessAllowed ? 'block' : 'none';\n",
              "    })();\n",
              "  </script>\n",
              "</div>\n",
              "\n",
              "    </div>\n",
              "  </div>\n"
            ],
            "application/vnd.google.colaboratory.intrinsic+json": {
              "type": "dataframe",
              "variable_name": "tsla",
              "summary": "{\n  \"name\": \"tsla\",\n  \"rows\": 1258,\n  \"fields\": [\n    {\n      \"column\": \"Date\",\n      \"properties\": {\n        \"dtype\": \"object\",\n        \"num_unique_values\": 1258,\n        \"samples\": [\n          \"2021-11-10\",\n          \"2020-01-15\",\n          \"2019-11-01\"\n        ],\n        \"semantic_type\": \"\",\n        \"description\": \"\"\n      }\n    },\n    {\n      \"column\": \"Open\",\n      \"properties\": {\n        \"dtype\": \"number\",\n        \"std\": 91.72012098191179,\n        \"min\": 14.24,\n        \"max\": 411.470001,\n        \"num_unique_values\": 1234,\n        \"samples\": [\n          272.579987,\n          303.566681,\n          381.666656\n        ],\n        \"semantic_type\": \"\",\n        \"description\": \"\"\n      }\n    },\n    {\n      \"column\": \"High\",\n      \"properties\": {\n        \"dtype\": \"number\",\n        \"std\": 93.63634191671753,\n        \"min\": 14.334667,\n        \"max\": 414.496674,\n        \"num_unique_values\": 1231,\n        \"samples\": [\n          402.863342,\n          237.100006,\n          123.057335\n        ],\n        \"semantic_type\": \"\",\n        \"description\": \"\"\n      }\n    },\n    {\n      \"column\": \"Low\",\n      \"properties\": {\n        \"dtype\": \"number\",\n        \"std\": 89.51422052999592,\n        \"min\": 14.066667,\n        \"max\": 405.666656,\n        \"num_unique_values\": 1240,\n        \"samples\": [\n          230.600006,\n          135.039993,\n          201.666672\n        ],\n        \"semantic_type\": \"\",\n        \"description\": \"\"\n      }\n    },\n    {\n      \"column\": \"Close\",\n      \"properties\": {\n        \"dtype\": \"number\",\n        \"std\": 91.55316264200619,\n        \"min\": 14.093333,\n        \"max\": 409.970001,\n        \"num_unique_values\": 1246,\n        \"samples\": [\n          268.433319,\n          202.146667,\n          189.559998\n        ],\n        \"semantic_type\": \"\",\n        \"description\": \"\"\n      }\n    },\n    {\n      \"column\": \"Adj Close\",\n      \"properties\": {\n        \"dtype\": \"number\",\n        \"std\": 91.55316264200619,\n        \"min\": 14.093333,\n        \"max\": 409.970001,\n        \"num_unique_values\": 1246,\n        \"samples\": [\n          268.433319,\n          202.146667,\n          189.559998\n        ],\n        \"semantic_type\": \"\",\n        \"description\": \"\"\n      }\n    },\n    {\n      \"column\": \"Volume\",\n      \"properties\": {\n        \"dtype\": \"number\",\n        \"std\": 83082318,\n        \"min\": 29401800,\n        \"max\": 914082000,\n        \"num_unique_values\": 1257,\n        \"samples\": [\n          132554700,\n          260532000,\n          95758500\n        ],\n        \"semantic_type\": \"\",\n        \"description\": \"\"\n      }\n    }\n  ]\n}"
            }
          },
          "metadata": {},
          "execution_count": 13
        }
      ]
    },
    {
      "cell_type": "markdown",
      "source": [
        "**02. Distribution of Log return**"
      ],
      "metadata": {
        "id": "EWZ58x2BmPWc"
      }
    },
    {
      "cell_type": "code",
      "source": [
        "# Calculation of log daily return\n",
        "\n",
        "tsla['LogReturn'] = np.log(tsla['Close']).shift(-1) - np.log(tsla['Close'])\n",
        "\n",
        "#Graphical representation of Tesla stocks' distribution of log return\n",
        "\n",
        "from scipy.stats import norm\n",
        "mu = tsla['LogReturn'].mean()\n",
        "sigma = tsla['LogReturn'].std(ddof=1)\n",
        "\n",
        "density = pd.DataFrame()\n",
        "density['x'] = np.arange(tsla['LogReturn'].min()-0.01, tsla['LogReturn'].max()+0.01, 0.001)\n",
        "density['pdf'] = norm.pdf(density['x'], mu, sigma)\n",
        "\n",
        "tsla['LogReturn'].hist(bins=50, figsize=(10,5))\n",
        "plt.plot(density['x'], density['pdf'], color='red')\n",
        "plt.show()"
      ],
      "metadata": {
        "colab": {
          "base_uri": "https://localhost:8080/",
          "height": 445
        },
        "id": "R9YRVsiymUTs",
        "outputId": "d8f3b156-cce5-4dad-fa5b-fff7ca9a50dd"
      },
      "execution_count": 14,
      "outputs": [
        {
          "output_type": "display_data",
          "data": {
            "text/plain": [
              "<Figure size 1000x500 with 1 Axes>"
            ],
            "image/png": "[encoded data removed]"
          },
          "metadata": {}
        }
      ]
    },
    {
      "cell_type": "markdown",
      "source": [
        "**3. Calculate the probability of stock price dropping over a certain percentage amount in a day**\n",
        "\n"
      ],
      "metadata": {
        "id": "8-fS5CcloYZh"
      }
    },
    {
      "cell_type": "code",
      "source": [
        "# Computation of the propability that Tesla stock price will drop over 5% and 10% in a day\n",
        "\n",
        "prob_return1 = norm.cdf(-0.05, mu, sigma)\n",
        "print('The probability of a drop over 5% is ', prob_return1)\n",
        "\n",
        "prob_return1 = norm.cdf(-0.10, mu, sigma)\n",
        "print('The probability of a drop over 10% is ', prob_return1)"
      ],
      "metadata": {
        "colab": {
          "base_uri": "https://localhost:8080/"
        },
        "id": "XqJaI3Rloic_",
        "outputId": "f16482f3-d130-45da-d87d-281940e5ec18"
      },
      "execution_count": 15,
      "outputs": [
        {
          "output_type": "stream",
          "name": "stdout",
          "text": [
            "The probability of a drop over 5% is  0.10327068541872164\n",
            "The probability of a drop over 10% is  0.0066792426795433835\n"
          ]
        }
      ]
    },
    {
      "cell_type": "markdown",
      "source": [
        "**4. Calculate the probability of stock price dropping over a certain percentage amount in a year**"
      ],
      "metadata": {
        "id": "kfyR7Bz6rEjQ"
      }
    },
    {
      "cell_type": "code",
      "source": [
        "# Computation of the propability that Tesla stock price will drop over 40% and 20% in 220 days\n",
        "\n",
        "mu220 = 220*mu\n",
        "sigma220 = (220**0.5) * sigma\n",
        "print('The probability of a drop over 40% in 220 days is ', norm.cdf(-0.4, mu220, sigma220))\n",
        "print('The probability of a drop over 20% in 220 days is ', norm.cdf(-0.2, mu220, sigma220))\n"
      ],
      "metadata": {
        "colab": {
          "base_uri": "https://localhost:8080/"
        },
        "id": "a8WGki19rHzb",
        "outputId": "47c5c9e5-fbce-47ea-baf3-063a33b382dc"
      },
      "execution_count": 16,
      "outputs": [
        {
          "output_type": "stream",
          "name": "stdout",
          "text": [
            "The probability of a drop over 40% in 220 days is  0.07673593735639628\n",
            "The probability of a drop over 20% in 220 days is  0.1354895912421386\n"
          ]
        }
      ]
    },
    {
      "cell_type": "markdown",
      "source": [
        "5. **Calculate Value at risk (VaR)**"
      ],
      "metadata": {
        "id": "72oAp_ggD3Tv"
      }
    },
    {
      "cell_type": "code",
      "source": [
        "# Calculation of daily VaR\n",
        "\n",
        "VaR=norm.ppf(0.05, mu, sigma)\n",
        "print('Single day value at risk is ', VaR)\n",
        "\n",
        "# Calculation of 25%, 75%, 5% and 95% quantiles of the return\n",
        "q25 = norm.ppf(0.25, mu, sigma)\n",
        "print('25% quantile is ', q25)\n",
        "q75 = norm.ppf(0.75, mu, sigma)\n",
        "print('75% quantile is ', q75)\n",
        "q5 = norm.ppf(0.05, mu, sigma)\n",
        "print('5% quantile is ', q5)\n",
        "q95 = norm.ppf(0.95, mu, sigma)\n",
        "print('95% quantile is ', q95)"
      ],
      "metadata": {
        "colab": {
          "base_uri": "https://localhost:8080/"
        },
        "id": "O48MK0j0D8Rh",
        "outputId": "c06afd5e-397b-4b45-8ba4-6d7f343ac086"
      },
      "execution_count": 17,
      "outputs": [
        {
          "output_type": "stream",
          "name": "stdout",
          "text": [
            "Single day value at risk is  -0.06576141953212115\n",
            "25% quantile is  -0.025694646092919292\n",
            "75% quantile is  0.030005341624126818\n",
            "5% quantile is  -0.06576141953212115\n",
            "95% quantile is  0.07007211506332865\n"
          ]
        }
      ]
    }
  ]
}